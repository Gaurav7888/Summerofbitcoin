{
 "cells": [
  {
   "cell_type": "code",
   "execution_count": 33,
   "id": "7c8545d5",
   "metadata": {},
   "outputs": [],
   "source": [
    "import pandas as pd\n",
    "import numpy as np"
   ]
  },
  {
   "cell_type": "code",
   "execution_count": 34,
   "id": "9c19fe4e",
   "metadata": {},
   "outputs": [],
   "source": [
    "memepool = pd.read_csv(\"mempool.csv\")"
   ]
  },
  {
   "cell_type": "code",
   "execution_count": 35,
   "id": "8455f965",
   "metadata": {
    "scrolled": true
   },
   "outputs": [
    {
     "data": {
      "text/html": [
       "<div>\n",
       "<style scoped>\n",
       "    .dataframe tbody tr th:only-of-type {\n",
       "        vertical-align: middle;\n",
       "    }\n",
       "\n",
       "    .dataframe tbody tr th {\n",
       "        vertical-align: top;\n",
       "    }\n",
       "\n",
       "    .dataframe thead th {\n",
       "        text-align: right;\n",
       "    }\n",
       "</style>\n",
       "<table border=\"1\" class=\"dataframe\">\n",
       "  <thead>\n",
       "    <tr style=\"text-align: right;\">\n",
       "      <th></th>\n",
       "      <th>tx_id</th>\n",
       "      <th>fee</th>\n",
       "      <th>weight</th>\n",
       "      <th>parents</th>\n",
       "    </tr>\n",
       "  </thead>\n",
       "  <tbody>\n",
       "    <tr>\n",
       "      <th>0</th>\n",
       "      <td>2e3da8fbc1eaca8ed9b7c2db9e6545d8ccac3c67deadee...</td>\n",
       "      <td>452</td>\n",
       "      <td>1620</td>\n",
       "      <td>NaN</td>\n",
       "    </tr>\n",
       "    <tr>\n",
       "      <th>1</th>\n",
       "      <td>79c51c9d4124c5cbb37a85263748dcf44e182dff83561f...</td>\n",
       "      <td>682</td>\n",
       "      <td>1136</td>\n",
       "      <td>6eb38fad135e38a93cb47a15a5f953cbc0563fd84bf1ab...</td>\n",
       "    </tr>\n",
       "    <tr>\n",
       "      <th>2</th>\n",
       "      <td>b0ef627c8dc2a706475d33d7712209ec779f7a8302aaea...</td>\n",
       "      <td>226</td>\n",
       "      <td>900</td>\n",
       "      <td>NaN</td>\n",
       "    </tr>\n",
       "    <tr>\n",
       "      <th>3</th>\n",
       "      <td>8c25f9be93990b96e8bc363778d6debee6867c7d73cefa...</td>\n",
       "      <td>258</td>\n",
       "      <td>1032</td>\n",
       "      <td>NaN</td>\n",
       "    </tr>\n",
       "    <tr>\n",
       "      <th>4</th>\n",
       "      <td>edc82751537be6afcb21c0229d8d20916d8e742a363ab2...</td>\n",
       "      <td>452</td>\n",
       "      <td>1616</td>\n",
       "      <td>NaN</td>\n",
       "    </tr>\n",
       "  </tbody>\n",
       "</table>\n",
       "</div>"
      ],
      "text/plain": [
       "                                               tx_id  fee  weight  \\\n",
       "0  2e3da8fbc1eaca8ed9b7c2db9e6545d8ccac3c67deadee...  452    1620   \n",
       "1  79c51c9d4124c5cbb37a85263748dcf44e182dff83561f...  682    1136   \n",
       "2  b0ef627c8dc2a706475d33d7712209ec779f7a8302aaea...  226     900   \n",
       "3  8c25f9be93990b96e8bc363778d6debee6867c7d73cefa...  258    1032   \n",
       "4  edc82751537be6afcb21c0229d8d20916d8e742a363ab2...  452    1616   \n",
       "\n",
       "                                            parents   \n",
       "0                                                NaN  \n",
       "1  6eb38fad135e38a93cb47a15a5f953cbc0563fd84bf1ab...  \n",
       "2                                                NaN  \n",
       "3                                                NaN  \n",
       "4                                                NaN  "
      ]
     },
     "execution_count": 35,
     "metadata": {},
     "output_type": "execute_result"
    }
   ],
   "source": [
    "memepool.head()"
   ]
  },
  {
   "cell_type": "code",
   "execution_count": 36,
   "id": "41171adc",
   "metadata": {},
   "outputs": [],
   "source": [
    "#index_names = memepool[ memepool[\"tx_id\"]==memepool[\"tx_id\"][0] ].index\n",
    "\n",
    "#memepool.drop(index_names, inplace = True)"
   ]
  },
  {
   "cell_type": "code",
   "execution_count": 37,
   "id": "1538839a",
   "metadata": {},
   "outputs": [],
   "source": [
    "#memepool[\"fee\"]\n"
   ]
  },
  {
   "cell_type": "code",
   "execution_count": 38,
   "id": "c824f7c3",
   "metadata": {},
   "outputs": [
    {
     "data": {
      "text/plain": [
       "True"
      ]
     },
     "execution_count": 38,
     "metadata": {},
     "output_type": "execute_result"
    }
   ],
   "source": [
    "np.isnan(memepool[\"parents \"][0])"
   ]
  },
  {
   "cell_type": "code",
   "execution_count": 39,
   "id": "975715e4",
   "metadata": {},
   "outputs": [
    {
     "name": "stdout",
     "output_type": "stream",
     "text": [
      "                                                  tx_id  fee  weight parents \n",
      "1683  6eb38fad135e38a93cb47a15a5f953cbc0563fd84bf1ab...  286    1132      NaN\n"
     ]
    }
   ],
   "source": [
    "P = pd.DataFrame(memepool.loc[(memepool[\"tx_id\"] == \"6eb38fad135e38a93cb47a15a5f953cbc0563fd84bf1abdec578c2af302e10bf\")])\n",
    "print(P)"
   ]
  },
  {
   "cell_type": "code",
   "execution_count": 40,
   "id": "188fe6a3",
   "metadata": {},
   "outputs": [
    {
     "data": {
      "text/plain": [
       "3214"
      ]
     },
     "execution_count": 40,
     "metadata": {},
     "output_type": "execute_result"
    }
   ],
   "source": [
    "memepool['parents '].isnull().sum()"
   ]
  },
  {
   "cell_type": "code",
   "execution_count": 41,
   "id": "867dc224",
   "metadata": {},
   "outputs": [
    {
     "name": "stdout",
     "output_type": "stream",
     "text": [
      "6eb38fad135e38a93cb47a15a5f953cbc0563fd84bf1abdec578c2af302e10bf\n",
      "nan\n",
      "nan\n",
      "nan\n",
      "edc82751537be6afcb21c0229d8d20916d8e742a363ab235b5556c5fa698cf4f\n",
      "nan\n",
      "nan\n",
      "nan\n",
      "nan\n",
      "nan\n",
      "nan\n",
      "nan\n",
      "nan\n",
      "nan\n",
      "nan\n",
      "nan\n",
      "nan\n",
      "nan\n",
      "nan\n"
     ]
    }
   ],
   "source": [
    "for i in range(1,20):\n",
    "    print(memepool['parents '][i])"
   ]
  },
  {
   "cell_type": "code",
   "execution_count": 42,
   "id": "e02b3751",
   "metadata": {},
   "outputs": [],
   "source": [
    "memepool=memepool.sort_values(by=['fee'],ascending=False)"
   ]
  },
  {
   "cell_type": "code",
   "execution_count": 43,
   "id": "95344e5a",
   "metadata": {},
   "outputs": [],
   "source": [
    "max_block_weight = 4000000 \n",
    "\n",
    "opt_list=[]\n",
    "opt_wt=0\n",
    "opt_fees=0"
   ]
  },
  {
   "cell_type": "markdown",
   "id": "663cc997",
   "metadata": {},
   "source": []
  },
  {
   "cell_type": "code",
   "execution_count": 45,
   "id": "50bc5802",
   "metadata": {},
   "outputs": [],
   "source": [
    "\n",
    "\n",
    "for i in memepool:\n",
    "    \n",
    "    if memepool[\"tx_id\"] not in opt_list:\n",
    "        \n",
    "        if opt_wt < max_block_weight:\n",
    "\n",
    "            opt_fees += memepool[\"fee\"]\n",
    "            opt_wt += memepool[\"weight\"]\n",
    "\n",
    "            if np.isnan(memepool[\"parents \"][0])!=True:\n",
    "\n",
    "\n",
    "                P = pd.DataFrame(memepool.loc[(memepool[\"tx_id\"] == memepool[\"parents \"])])\n",
    "                opt_fees+=P[\"fee\"]\n",
    "                opt_wt+=P[\"weight\"]\n",
    "                opt_list.append(memepool[\"parents \"])\n",
    "                opt_list.append(memepool[\"tx_id\"])\n",
    "\n",
    "\n",
    "\n",
    "            else:\n",
    "\n",
    "                opt_list.append(memepool[\"tx_id\"])\n",
    "\n",
    "            \n",
    "            \n",
    "            \n",
    "    \n",
    "    \n",
    "    \n",
    "    \n",
    "    \n",
    "    \n",
    "    \n",
    "    "
   ]
  },
  {
   "cell_type": "code",
   "execution_count": 196,
   "id": "3ee8e41f",
   "metadata": {},
   "outputs": [],
   "source": [
    "#a=np.array(opt_list)"
   ]
  },
  {
   "cell_type": "code",
   "execution_count": 197,
   "id": "c6092a10",
   "metadata": {},
   "outputs": [],
   "source": [
    "#a.shape"
   ]
  },
  {
   "cell_type": "code",
   "execution_count": 96,
   "id": "e14e5cfa",
   "metadata": {},
   "outputs": [],
   "source": [
    "\n",
    "#opt_list = [i.split(\" \") for i in opt_list]"
   ]
  },
  {
   "cell_type": "code",
   "execution_count": 47,
   "id": "fa7f3bee",
   "metadata": {},
   "outputs": [],
   "source": [
    "dfObj = pd.DataFrame(opt_list) "
   ]
  },
  {
   "cell_type": "code",
   "execution_count": 212,
   "id": "418b18a3",
   "metadata": {},
   "outputs": [],
   "source": [
    "\n",
    "#opt_list = [i.split(\" \") for i in dfObj]"
   ]
  },
  {
   "cell_type": "code",
   "execution_count": 208,
   "id": "935d30b5",
   "metadata": {},
   "outputs": [
    {
     "data": {
      "text/plain": [
       "[['2e3da8fbc1eaca8ed9b7c2db9e6545d8ccac3c67deadee95db050e41c1eedfc0']]"
      ]
     },
     "execution_count": 208,
     "metadata": {},
     "output_type": "execute_result"
    }
   ],
   "source": [
    "#opt_list"
   ]
  },
  {
   "cell_type": "code",
   "execution_count": 219,
   "id": "360f1adc",
   "metadata": {},
   "outputs": [
    {
     "data": {
      "text/plain": [
       "1"
      ]
     },
     "execution_count": 219,
     "metadata": {},
     "output_type": "execute_result"
    }
   ],
   "source": [
    "#dfObj.iloc[0][dfObj.columns]"
   ]
  },
  {
   "cell_type": "code",
   "execution_count": 65,
   "id": "44c205f4",
   "metadata": {},
   "outputs": [],
   "source": [
    "final=str(opt_list[0]).split()"
   ]
  },
  {
   "cell_type": "code",
   "execution_count": 246,
   "id": "cf2aa6a5",
   "metadata": {},
   "outputs": [
    {
     "data": {
      "text/plain": [
       "pandas.core.series.Series"
      ]
     },
     "execution_count": 246,
     "metadata": {},
     "output_type": "execute_result"
    }
   ],
   "source": [
    "type(opt_list[0])"
   ]
  },
  {
   "cell_type": "code",
   "execution_count": 71,
   "id": "f77ba146",
   "metadata": {},
   "outputs": [],
   "source": [
    "final = [i for i in final if i[0]!='.']"
   ]
  },
  {
   "cell_type": "code",
   "execution_count": 76,
   "id": "a2e6b227",
   "metadata": {},
   "outputs": [],
   "source": [
    "final_list=str(opt_list[0]).replace(\" \",\"\").split('\\n')"
   ]
  },
  {
   "cell_type": "code",
   "execution_count": 94,
   "id": "0446c706",
   "metadata": {},
   "outputs": [],
   "source": [
    "final_list = final_list[0:-1]"
   ]
  },
  {
   "cell_type": "code",
   "execution_count": 99,
   "id": "4760eacc",
   "metadata": {},
   "outputs": [
    {
     "data": {
      "text/plain": [
       "'266059f0495cf66d1864359dda816eb7189b9d9a3a9cd9dc50..'"
      ]
     },
     "execution_count": 99,
     "metadata": {},
     "output_type": "execute_result"
    }
   ],
   "source": [
    "final_list[0][0:-1]"
   ]
  },
  {
   "cell_type": "code",
   "execution_count": 91,
   "id": "35e04981",
   "metadata": {},
   "outputs": [],
   "source": [
    "dfObj = pd.DataFrame(final_list) \n",
    "pd.set_option('display.max_colwidth', None)"
   ]
  },
  {
   "cell_type": "code",
   "execution_count": 92,
   "id": "30e52ec4",
   "metadata": {},
   "outputs": [],
   "source": [
    "with open(\"block.txt\", \"w\") as output:\n",
    "    output.write(str(final_list[0:-1]))"
   ]
  },
  {
   "cell_type": "code",
   "execution_count": 93,
   "id": "9e7b1405",
   "metadata": {},
   "outputs": [
    {
     "data": {
      "text/html": [
       "<table border=\"1\" class=\"dataframe\">\n",
       "  <thead>\n",
       "    <tr style=\"text-align: right;\">\n",
       "      <th></th>\n",
       "      <th>0</th>\n",
       "    </tr>\n",
       "  </thead>\n",
       "  <tbody>\n",
       "    <tr>\n",
       "      <th>0</th>\n",
       "      <td>266059f0495cf66d1864359dda816eb7189b9d9a3a9cd9dc50...</td>\n",
       "    </tr>\n",
       "    <tr>\n",
       "      <th>1</th>\n",
       "      <td>46933bfc4c22fc7aaded4b02c6a6d67b4a7bad297377e46e4c...</td>\n",
       "    </tr>\n",
       "    <tr>\n",
       "      <th>2</th>\n",
       "      <td>487787784075804f10dad1f815de867dde2875e73a13da798c...</td>\n",
       "    </tr>\n",
       "    <tr>\n",
       "      <th>3</th>\n",
       "      <td>49080c8ebf9c75f63b7e5ff176e2937f24c694aa6b3bde0e59...</td>\n",
       "    </tr>\n",
       "    <tr>\n",
       "      <th>4</th>\n",
       "      <td>5095c3fef085fca34891e6456489d840ab68139b24857eb1f9...</td>\n",
       "    </tr>\n",
       "    <tr>\n",
       "      <th>5</th>\n",
       "      <td>...</td>\n",
       "    </tr>\n",
       "    <tr>\n",
       "      <th>6</th>\n",
       "      <td>816dbf57df85f4292e2211439f44974f3d99df18fbbe30f05...</td>\n",
       "    </tr>\n",
       "    <tr>\n",
       "      <th>7</th>\n",
       "      <td>88367d2b9c9c9755ecd55d7528f576845eb2f3d982b25c23f...</td>\n",
       "    </tr>\n",
       "    <tr>\n",
       "      <th>8</th>\n",
       "      <td>166489fa28f476f4f7fea0ffd3d8e687a1bf94e1ed96cb357d...</td>\n",
       "    </tr>\n",
       "    <tr>\n",
       "      <th>9</th>\n",
       "      <td>166262e84b510b0d3e05725d2e626709cee88b9d5f78956656...</td>\n",
       "    </tr>\n",
       "    <tr>\n",
       "      <th>10</th>\n",
       "      <td>160340f0adf2aa2c6ec6884639c547ae304f6f8d44d09e6fe5...</td>\n",
       "    </tr>\n",
       "    <tr>\n",
       "      <th>11</th>\n",
       "      <td>Name:tx_id,Length:5214,dtype:object</td>\n",
       "    </tr>\n",
       "  </tbody>\n",
       "</table>"
      ],
      "text/plain": [
       "<IPython.core.display.HTML object>"
      ]
     },
     "metadata": {},
     "output_type": "display_data"
    }
   ],
   "source": [
    "from IPython.display import display, HTML\n",
    "display(HTML(dfObj.to_html()))"
   ]
  },
  {
   "cell_type": "code",
   "execution_count": null,
   "id": "8150cadd",
   "metadata": {},
   "outputs": [],
   "source": []
  }
 ],
 "metadata": {
  "kernelspec": {
   "display_name": "Python 3",
   "language": "python",
   "name": "python3"
  },
  "language_info": {
   "codemirror_mode": {
    "name": "ipython",
    "version": 3
   },
   "file_extension": ".py",
   "mimetype": "text/x-python",
   "name": "python",
   "nbconvert_exporter": "python",
   "pygments_lexer": "ipython3",
   "version": "3.9.5"
  }
 },
 "nbformat": 4,
 "nbformat_minor": 5
}
